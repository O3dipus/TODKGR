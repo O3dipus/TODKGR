{
 "cells": [
  {
   "cell_type": "markdown",
   "source": [
    "## Data Analysis"
   ],
   "metadata": {
    "collapsed": false
   }
  },
  {
   "cell_type": "code",
   "execution_count": 2,
   "metadata": {
    "collapsed": true
   },
   "outputs": [
    {
     "name": "stdout",
     "output_type": "stream",
     "text": [
      "10741\n",
      "{'dialog': ['i also remodel homes when i am not out bow hunting .', \"that's neat . when i was in high school i placed 6th in 100m dash !\", \"that's awesome . do you have a favorite season or time of year ?\", 'i do not . but i do have a favorite meat since that is all i eat exclusively .', 'what is your favorite meat to eat ?', 'i would have to say its prime rib . do you have any favorite foods ?', 'i like chicken or macaroni and cheese .'], 'concepts': [['home', 'bow', 'hunting', 'remodel'], ['school', 'dash', 'place'], ['season', 'time', 'year'], ['eat', 'meat'], ['eat', 'meat'], ['rib', 'food'], ['macaroni', 'chicken', 'cheese']], 'easy_target': 'chicken', 'hard_target': 'antiquark', 'entity_path': ['home', 'place', 'time', 'eat', 'meat', 'food', 'chicken']}\n"
     ]
    }
   ],
   "source": [
    "f = open('tgconv_train.json')\n",
    "lines = f.readlines()\n",
    "dataset = []\n",
    "\n",
    "for line in lines:\n",
    "    dataset.append(eval(line.strip()))\n",
    "\n",
    "print(len(dataset))\n",
    "print(dataset[0])"
   ]
  },
  {
   "cell_type": "code",
   "execution_count": 11,
   "outputs": [
    {
     "name": "stdout",
     "output_type": "stream",
     "text": [
      "70205\n"
     ]
    }
   ],
   "source": [
    "concept_statistics = []\n",
    "\n",
    "for data in dataset:\n",
    "    extracted_concepts = data['concepts']\n",
    "    lengths = [len(concepts) for concepts in extracted_concepts]\n",
    "    concept_statistics.extend(lengths)\n",
    "\n",
    "print(len(concept_statistics))"
   ],
   "metadata": {
    "collapsed": false,
    "pycharm": {
     "name": "#%%\n"
    }
   }
  },
  {
   "cell_type": "code",
   "execution_count": 10,
   "outputs": [
    {
     "name": "stdout",
     "output_type": "stream",
     "text": [
      "[4, 3, 2, 1, 5, 6, 7, 8, 9, 10]\n",
      "[14399, 19496, 17402, 8424, 7190, 2549, 609, 120, 15, 1]\n",
      "<class 'collections.Counter'>\n"
     ]
    },
    {
     "data": {
      "text/plain": "Text(0.5, 1.0, 'Extracted Concept Number')"
     },
     "execution_count": 10,
     "metadata": {},
     "output_type": "execute_result"
    },
    {
     "data": {
      "text/plain": "<Figure size 640x480 with 1 Axes>",
      "image/png": "[encoded data removed]"
     },
     "metadata": {},
     "output_type": "display_data"
    }
   ],
   "source": [
    "from collections import Counter\n",
    "import matplotlib.pyplot as plt\n",
    "\n",
    "result = Counter(concept_statistics)\n",
    "print([x for x in result])\n",
    "print([result[x] for x in result])\n",
    "print(type(result))\n",
    "\n",
    "\n",
    "plt.bar([x for x in result], [result[x] for x in result])\n",
    "plt.xticks([x for x in result])\n",
    "plt.title('Extracted Concept Number')"
   ],
   "metadata": {
    "collapsed": false,
    "pycharm": {
     "name": "#%%\n"
    }
   }
  },
  {
   "cell_type": "code",
   "execution_count": 7,
   "outputs": [
    {
     "name": "stderr",
     "output_type": "stream",
     "text": [
      "2206782it [00:22, 96504.67it/s] \n"
     ]
    },
    {
     "name": "stdout",
     "output_type": "stream",
     "text": [
      "1.121382700217486 1.089766775158938\n"
     ]
    }
   ],
   "source": [
    "from Knowledge.ConceptNet import ConceptNet\n",
    "\n",
    "conceptnet = ConceptNet('../../Knowledge/Data/conceptnet_en.txt')"
   ],
   "metadata": {
    "collapsed": false,
    "pycharm": {
     "name": "#%%\n"
    }
   }
  },
  {
   "cell_type": "code",
   "execution_count": 8,
   "outputs": [
    {
     "name": "stdout",
     "output_type": "stream",
     "text": [
      "['neat', 'clean', 'cloth', 'kitchen', 'food'] ['tidy', 'clean', 'cloth', 'kitchen', 'food']\n"
     ]
    }
   ],
   "source": [
    "p1, p1w = conceptnet.shortest_path('neat', 'food')\n",
    "p2, p2w = conceptnet.shortest_path('tidy', 'food')\n",
    "\n",
    "print(p1, p2)"
   ],
   "metadata": {
    "collapsed": false,
    "pycharm": {
     "name": "#%%\n"
    }
   }
  },
  {
   "cell_type": "markdown",
   "source": [
    "## Blenderbot Finetune Dataset"
   ],
   "metadata": {
    "collapsed": false
   }
  },
  {
   "cell_type": "code",
   "execution_count": 1,
   "outputs": [],
   "source": [
    "from Training.BlenderBot.Dataset import BlenderbotFinetuneDataset"
   ],
   "metadata": {
    "collapsed": false,
    "pycharm": {
     "name": "#%%\n"
    }
   }
  },
  {
   "cell_type": "code",
   "execution_count": 2,
   "outputs": [],
   "source": [
    "dataset = BlenderbotFinetuneDataset()"
   ],
   "metadata": {
    "collapsed": false,
    "pycharm": {
     "name": "#%%\n"
    }
   }
  },
  {
   "cell_type": "code",
   "execution_count": 4,
   "outputs": [
    {
     "data": {
      "text/plain": "{'prompts': \"<k>eat meat</k><s>i also remodel homes when i am not out bow hunting .</s><s>that's neat . when i was in high school i placed 6th in 100m dash !</s><s>that's awesome . do you have a favorite season or time of year ?</s><s>i do not . but i do have a favorite meat since that is all i eat exclusively .</s>\",\n 'response': 'what is your favorite meat to eat ?'}"
     },
     "execution_count": 4,
     "metadata": {},
     "output_type": "execute_result"
    }
   ],
   "source": [
    "dataset.dataset[3]"
   ],
   "metadata": {
    "collapsed": false,
    "pycharm": {
     "name": "#%%\n"
    }
   }
  },
  {
   "cell_type": "code",
   "execution_count": null,
   "outputs": [],
   "source": [],
   "metadata": {
    "collapsed": false,
    "pycharm": {
     "name": "#%%\n"
    }
   }
  }
 ],
 "metadata": {
  "kernelspec": {
   "display_name": "Python 3",
   "language": "python",
   "name": "python3"
  },
  "language_info": {
   "codemirror_mode": {
    "name": "ipython",
    "version": 2
   },
   "file_extension": ".py",
   "mimetype": "text/x-python",
   "name": "python",
   "nbconvert_exporter": "python",
   "pygments_lexer": "ipython2",
   "version": "2.7.6"
  }
 },
 "nbformat": 4,
 "nbformat_minor": 0
}
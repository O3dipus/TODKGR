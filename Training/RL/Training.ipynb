{
 "cells": [
  {
   "cell_type": "markdown",
   "source": [
    "## Pretrain"
   ],
   "metadata": {
    "collapsed": false
   }
  },
  {
   "cell_type": "code",
   "execution_count": 6,
   "outputs": [],
   "source": [
    "from Training.RL.DataLoader import TGConvDataset\n",
    "from sentence_transformers import SentenceTransformer\n",
    "from Knowledge.ConceptNet import ConceptNet\n",
    "from Training.RL.Simulation import Simulator\n",
    "\n",
    "from stable_baselines3.common.monitor import Monitor\n",
    "from stable_baselines3 import PPO\n",
    "from stable_baselines3.common.evaluation import evaluate_policy\n",
    "\n",
    "import time\n",
    "import os\n"
   ],
   "metadata": {
    "collapsed": false,
    "pycharm": {
     "name": "#%%\n"
    }
   }
  },
  {
   "cell_type": "code",
   "execution_count": 2,
   "metadata": {
    "collapsed": true
   },
   "outputs": [
    {
     "name": "stderr",
     "output_type": "stream",
     "text": [
      "2206782it [00:27, 78859.80it/s]\n",
      "100%|██████████| 10741/10741 [05:38<00:00, 31.77it/s]\n"
     ]
    }
   ],
   "source": [
    "\n",
    "conceptnet = ConceptNet('../../Knowledge/Data/conceptnet_en.txt')\n",
    "sentence_encoder = SentenceTransformer('sentence-transformers/all-MiniLM-L6-v2')\n",
    "\n",
    "dataset = TGConvDataset(conceptnet, sentence_encoder)\n",
    "\n",
    "episodes_data = dataset.extract_context_keyword()"
   ]
  },
  {
   "cell_type": "code",
   "execution_count": 11,
   "outputs": [
    {
     "name": "stdout",
     "output_type": "stream",
     "text": [
      "torch.Size([769])\n",
      "677070\n"
     ]
    }
   ],
   "source": [
    "print(episodes_data[0][0].shape)\n",
    "print(len(list(conceptnet.nodes)))"
   ],
   "metadata": {
    "collapsed": false,
    "pycharm": {
     "name": "#%%\n"
    }
   }
  },
  {
   "cell_type": "markdown",
   "source": [
    "### Environment Setting"
   ],
   "metadata": {
    "collapsed": false
   }
  },
  {
   "cell_type": "markdown",
   "source": [
    "#### Training Logdir"
   ],
   "metadata": {
    "collapsed": false
   }
  },
  {
   "cell_type": "code",
   "execution_count": 7,
   "outputs": [],
   "source": [
    "models_dir = f\"models/{int(time.time())}/\"\n",
    "logdir = f\"logs/{int(time.time())}/\"\n",
    "\n",
    "if not os.path.exists(models_dir):\n",
    "    os.makedirs(models_dir)\n",
    "\n",
    "if not os.path.exists(logdir):\n",
    "    os.makedirs(logdir)"
   ],
   "metadata": {
    "collapsed": false,
    "pycharm": {
     "name": "#%%\n"
    }
   }
  },
  {
   "cell_type": "markdown",
   "source": [
    "#### Environment Setting"
   ],
   "metadata": {
    "collapsed": false
   }
  },
  {
   "cell_type": "code",
   "execution_count": 8,
   "outputs": [
    {
     "name": "stderr",
     "output_type": "stream",
     "text": [
      "2206782it [00:21, 101080.79it/s]\n"
     ]
    },
    {
     "name": "stdout",
     "output_type": "stream",
     "text": [
      "Using cuda device\n",
      "Wrapping the env in a DummyVecEnv.\n"
     ]
    }
   ],
   "source": [
    "env = Simulator('family', verbose=True)\n",
    "env = Monitor(env)\n",
    "\n",
    "model = PPO(\"MlpPolicy\", env, verbose=1, tensorboard_log=logdir)"
   ],
   "metadata": {
    "collapsed": false,
    "pycharm": {
     "name": "#%%\n"
    }
   }
  },
  {
   "cell_type": "code",
   "execution_count": 10,
   "outputs": [
    {
     "ename": "TypeError",
     "evalue": "learn() got an unexpected keyword argument 'expert_dataset'",
     "output_type": "error",
     "traceback": [
      "\u001B[1;31m---------------------------------------------------------------------------\u001B[0m",
      "\u001B[1;31mTypeError\u001B[0m                                 Traceback (most recent call last)",
      "Cell \u001B[1;32mIn [10], line 1\u001B[0m\n\u001B[1;32m----> 1\u001B[0m \u001B[43mmodel\u001B[49m\u001B[38;5;241;43m.\u001B[39;49m\u001B[43mlearn\u001B[49m\u001B[43m(\u001B[49m\u001B[43mtotal_timesteps\u001B[49m\u001B[38;5;241;43m=\u001B[39;49m\u001B[38;5;241;43m10000\u001B[39;49m\u001B[43m,\u001B[49m\u001B[43m \u001B[49m\u001B[43mexpert_dataset\u001B[49m\u001B[38;5;241;43m=\u001B[39;49m\u001B[43mepisodes_data\u001B[49m\u001B[43m)\u001B[49m\n",
      "\u001B[1;31mTypeError\u001B[0m: learn() got an unexpected keyword argument 'expert_dataset'"
     ]
    }
   ],
   "source": [
    "model.learn(total_timesteps=10000, expert_dataset=episodes_data)"
   ],
   "metadata": {
    "collapsed": false,
    "pycharm": {
     "name": "#%%\n"
    }
   }
  },
  {
   "cell_type": "code",
   "execution_count": null,
   "outputs": [],
   "source": [
    "model.learn(total_timesteps=100, progress_bar=True)\n",
    "mean_reward, _ = evaluate_policy(model, env, n_eval_episodes=2)\n",
    "print(f\"Mean reward: {mean_reward}\")"
   ],
   "metadata": {
    "collapsed": false,
    "pycharm": {
     "name": "#%%\n"
    }
   }
  },
  {
   "cell_type": "markdown",
   "source": [
    "## TD3"
   ],
   "metadata": {
    "collapsed": false
   }
  },
  {
   "cell_type": "code",
   "execution_count": null,
   "outputs": [],
   "source": [],
   "metadata": {
    "collapsed": false,
    "pycharm": {
     "name": "#%%\n"
    }
   }
  },
  {
   "cell_type": "code",
   "execution_count": null,
   "outputs": [],
   "source": [
    "state_dim = 769\n",
    "action_dim =\n",
    "\n",
    "gamma = 0.99\n",
    "actor_net_width = 400\n",
    "critic_net_width = 400\n",
    "buffer = 1e5\n",
    "cuda_device = 0\n",
    "delay_freq = 1\n",
    "total_episode = 8000\n",
    "policy_noise_std = 0.2\n",
    "actor_learning_rate = 1e-4\n",
    "critic_learning_rate = 1e-4\n",
    "sample_size = 256"
   ],
   "metadata": {
    "collapsed": false,
    "pycharm": {
     "name": "#%%\n"
    }
   }
  },
  {
   "cell_type": "code",
   "execution_count": null,
   "outputs": [],
   "source": [
    "from Training.RL.TD3 import TD3, ReplayBuffer\n",
    "\n",
    "model = TD3(env_with_Dead=sp.ENV_WITH_DEAD,\n",
    "                    state_dim=state_dim,\n",
    "                    action_dim=action_dim,\n",
    "                    max_action=sp.ACTION_NOISE_RANGE,\n",
    "                    user_num=iot_node_num,\n",
    "                    train_path=TRAIN_PATH,\n",
    "                    gamma=sp.GAMMA,\n",
    "                    net_width=actor_net_width,\n",
    "                    a_lr=actor_learning_rate,\n",
    "                    c_lr=critic_learning_rate,\n",
    "                    Q_batchsize=sample_size,\n",
    "                    delay_freq=delay_freq,\n",
    "                    policy_noise_std=policy_noise_std)\n",
    "replay_buffer = ReplayBuffer(state_dim=state_dim,\n",
    "                             action_dim=action_dim,\n",
    "                             max_size=int(buffer_size))"
   ],
   "metadata": {
    "collapsed": false,
    "pycharm": {
     "name": "#%%\n"
    }
   }
  }
 ],
 "metadata": {
  "kernelspec": {
   "display_name": "Python 3",
   "language": "python",
   "name": "python3"
  },
  "language_info": {
   "codemirror_mode": {
    "name": "ipython",
    "version": 2
   },
   "file_extension": ".py",
   "mimetype": "text/x-python",
   "name": "python",
   "nbconvert_exporter": "python",
   "pygments_lexer": "ipython2",
   "version": "2.7.6"
  }
 },
 "nbformat": 4,
 "nbformat_minor": 0
}